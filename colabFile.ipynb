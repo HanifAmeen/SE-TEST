{
  "nbformat": 4,
  "nbformat_minor": 0,
  "metadata": {
    "colab": {
      "name": "colabFile",
      "provenance": [],
      "authorship_tag": "ABX9TyPLwv1shU3maGx/lXJwodJF",
      "include_colab_link": true
    },
    "kernelspec": {
      "name": "python3",
      "display_name": "Python 3"
    },
    "language_info": {
      "name": "python"
    }
  },
  "cells": [
    {
      "cell_type": "markdown",
      "metadata": {
        "id": "view-in-github",
        "colab_type": "text"
      },
      "source": [
        "<a href=\"https://colab.research.google.com/github/HanifAmeen/SE-TEST/blob/New_Feature/colabFile.ipynb\" target=\"_parent\"><img src=\"https://colab.research.google.com/assets/colab-badge.svg\" alt=\"Open In Colab\"/></a>"
      ]
    },
    {
      "cell_type": "code",
      "execution_count": 5,
      "metadata": {
        "colab": {
          "base_uri": "https://localhost:8080/"
        },
        "id": "l_wXx14UC4eu",
        "outputId": "aca2f723-1cc6-4f07-df17-ff2c599ecbf8"
      },
      "outputs": [
        {
          "output_type": "stream",
          "name": "stdout",
          "text": [
            "22\n",
            "44  new s\n"
          ]
        }
      ],
      "source": [
        "x = 4+7\n",
        "s= x*2\n",
        "print(s)\n",
        "s=s*2\n",
        "print(s,\" new s\")"
      ]
    }
  ]
}