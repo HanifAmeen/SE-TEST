{
  "nbformat": 4,
  "nbformat_minor": 0,
  "metadata": {
    "colab": {
      "name": "colabFile",
      "provenance": [],
      "include_colab_link": true
    },
    "kernelspec": {
      "name": "python3",
      "display_name": "Python 3"
    },
    "language_info": {
      "name": "python"
    }
  },
  "cells": [
    {
      "cell_type": "markdown",
      "metadata": {
        "id": "view-in-github",
        "colab_type": "text"
      },
      "source": [
        "<a href=\"https://colab.research.google.com/github/HanifAmeen/SE-TEST/blob/main/colabFile.ipynb\" target=\"_parent\"><img src=\"https://colab.research.google.com/assets/colab-badge.svg\" alt=\"Open In Colab\"/></a>"
      ]
    },
    {
      "cell_type": "code",
      "execution_count": 1,
      "metadata": {
        "colab": {
          "base_uri": "https://localhost:8080/"
        },
        "id": "l_wXx14UC4eu",
        "outputId": "68d5e67c-d82f-44f3-e6ad-6e363d61d6a9"
      },
      "outputs": [
        {
          "output_type": "stream",
          "name": "stdout",
          "text": [
            "22\n",
            "44  new s\n",
            "Hello\n"
          ]
        }
      ],
      "source": [
        "x = 4+7\n",
        "s= x*2\n",
        "print(s)\n",
        "s=s*2\n",
        "print(s,\" new s\")\n",
        "print(\"Hello\")"
      ]
    },
    {
      "cell_type": "code",
      "source": [
        ""
      ],
      "metadata": {
        "id": "1neSZV-gStLy"
      },
      "execution_count": null,
      "outputs": []
    }
  ]
}