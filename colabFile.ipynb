{
  "nbformat": 4,
  "nbformat_minor": 0,
  "metadata": {
    "colab": {
      "name": "colabFile",
      "provenance": [],
      "include_colab_link": true
    },
    "kernelspec": {
      "name": "python3",
      "display_name": "Python 3"
    },
    "language_info": {
      "name": "python"
    }
  },
  "cells": [
    {
      "cell_type": "markdown",
      "metadata": {
        "id": "view-in-github",
        "colab_type": "text"
      },
      "source": [
        "<a href=\"https://colab.research.google.com/github/HanifAmeen/SE-TEST/blob/New_Feature/colabFile.ipynb\" target=\"_parent\"><img src=\"https://colab.research.google.com/assets/colab-badge.svg\" alt=\"Open In Colab\"/></a>"
      ]
    },
    {
      "cell_type": "code",
      "execution_count": 2,
      "metadata": {
        "colab": {
          "base_uri": "https://localhost:8080/"
        },
        "id": "l_wXx14UC4eu",
        "outputId": "efcff0eb-182a-4bf6-d136-8ae6e4e473b2"
      },
      "outputs": [
        {
          "output_type": "stream",
          "name": "stdout",
          "text": [
            "22\n",
            "44  new s\n",
            "Hello\n",
            "Hello 2\n"
          ]
        }
      ],
      "source": [
        "x = 4+7\n",
        "s= x*2\n",
        "print(s)\n",
        "s=s*2\n",
        "print(s,\" new s\")\n",
        "print(\"Hello\")\n",
        "print(\"Hello 2\")\n"
      ]
    },
    {
      "cell_type": "code",
      "source": [
        ""
      ],
      "metadata": {
        "id": "1neSZV-gStLy"
      },
      "execution_count": null,
      "outputs": []
    },
    {
      "cell_type": "code",
      "source": [
        "from google.colab import drive\n",
        "drive.mount('/content/drive')"
      ],
      "metadata": {
        "id": "UgmLbZjzU6qK"
      },
      "execution_count": null,
      "outputs": []
    }
  ]
}