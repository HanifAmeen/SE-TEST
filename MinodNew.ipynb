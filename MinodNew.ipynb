{
  "nbformat": 4,
  "nbformat_minor": 0,
  "metadata": {
    "colab": {
      "name": "MinodNew",
      "provenance": [],
      "authorship_tag": "ABX9TyNsIIGhNeoTaWHikX+pn3ED",
      "include_colab_link": true
    },
    "kernelspec": {
      "name": "python3",
      "display_name": "Python 3"
    },
    "language_info": {
      "name": "python"
    }
  },
  "cells": [
    {
      "cell_type": "markdown",
      "metadata": {
        "id": "view-in-github",
        "colab_type": "text"
      },
      "source": [
        "<a href=\"https://colab.research.google.com/github/HanifAmeen/SE-TEST/blob/New_Feature/MinodNew.ipynb\" target=\"_parent\"><img src=\"https://colab.research.google.com/assets/colab-badge.svg\" alt=\"Open In Colab\"/></a>"
      ]
    },
    {
      "cell_type": "code",
      "execution_count": null,
      "metadata": {
        "colab": {
          "base_uri": "https://localhost:8080/"
        },
        "id": "JOMEVYQTbedS",
        "outputId": "33486d94-58b9-47d2-e483-637462c5b7fa"
      },
      "outputs": [
        {
          "output_type": "stream",
          "name": "stdout",
          "text": [
            "HEY\n"
          ]
        }
      ],
      "source": [
        "print(\"HEY\")"
      ]
    },
    {
      "cell_type": "code",
      "source": [
        "print(\"HEY\")\n",
        "print(\"HEY\")\n",
        "print(\"HEY\")\n",
        "print(\"HEY\")\n",
        "print(\"HEY\")\n",
        "print(\"HEY\")\n",
        "print(\"HEY\")\n",
        "print(\"HEY\")\n",
        "print(\"HEY\")\n",
        "print(\"HEY\")\n",
        "print(\"HEY\")\n",
        "print(\"HEY\")\n",
        "print(\"HEY\")\n",
        "print(\"HEY\")\n",
        "print(\"HEY\")\n",
        "print(\"HEY\")\n",
        "print(\"HEY\")\n",
        "print(\"HEY\")\n",
        "print(\"HEY\")\n",
        "print(\"HEY\")\n",
        "print(\"HEY\")\n",
        "print(\"HEY\")\n",
        "print(\"HEY\")\n",
        "print(\"HEY\")\n",
        "print(\"HEY\")\n",
        "print(\"HEY\")\n",
        "print(\"HEY\")\n",
        "print(\"HEY\")\n",
        "print(\"HEY\")\n"
      ],
      "metadata": {
        "id": "6-VA9T2wdcfS",
        "outputId": "158e24e5-9209-4d4f-f52d-fefe5ac9ec98",
        "colab": {
          "base_uri": "https://localhost:8080/"
        }
      },
      "execution_count": 2,
      "outputs": [
        {
          "output_type": "stream",
          "name": "stdout",
          "text": [
            "HEY\n",
            "HEY\n",
            "HEY\n",
            "HEY\n",
            "HEY\n",
            "HEY\n",
            "HEY\n",
            "HEY\n",
            "HEY\n",
            "HEY\n",
            "HEY\n",
            "HEY\n",
            "HEY\n",
            "HEY\n",
            "HEY\n",
            "HEY\n",
            "HEY\n",
            "HEY\n",
            "HEY\n",
            "HEY\n",
            "HEY\n",
            "HEY\n",
            "HEY\n",
            "HEY\n",
            "HEY\n",
            "HEY\n",
            "HEY\n",
            "HEY\n",
            "HEY\n"
          ]
        }
      ]
    }
  ]
}